{
 "cells": [
  {
   "cell_type": "markdown",
   "id": "95414e64-ee1a-4362-ad32-d8a0f4f99d42",
   "metadata": {
    "pycharm": {
     "name": "#%% md\n"
    }
   },
   "source": [
    "# SpiPy\n",
    "\n",
    "Script to invert spectra from MODIS and estimate snow cover and properties\n",
    "for 2 x 7 band pixels from a scene"
   ]
  },
  {
   "cell_type": "code",
   "execution_count": 1,
   "id": "5add65ac",
   "metadata": {
    "pycharm": {
     "name": "#%%\n"
    }
   },
   "outputs": [],
   "source": [
    "import numpy as np\n",
    "import h5py\n",
    "import scipy.interpolate \n",
    "import spires\n",
    "import matplotlib.pyplot as plt"
   ]
  },
  {
   "cell_type": "markdown",
   "id": "b6e54636-1dd7-43b5-ad99-a3561782d52c",
   "metadata": {
    "pycharm": {
     "name": "#%% md\n"
    }
   },
   "source": [
    "# Load the verification data"
   ]
  },
  {
   "cell_type": "code",
   "execution_count": 2,
   "id": "4cdbdf5f-9d50-40b2-b0b4-b2250911e048",
   "metadata": {
    "pycharm": {
     "name": "#%%\n"
    }
   },
   "outputs": [],
   "source": [
    "#R is 7 band spectra for the 2 pixels\n",
    "R = np.array([[0.8203,0.6796,0.8076,0.8361,0.1879,0.0321,0.0144],\n",
    "              [0.4773,0.4482,0.4474,0.4823,0.1815,0.1019,0.0748]])\n",
    "\n",
    "#R0 is the 7 band background spectra\n",
    "R0 = np.array([[0.2219,0.2681,0.1016,0.1787,0.3097,0.2997,0.2970],\n",
    "               [0.1377,0.2185,0.0807,0.1127,0.2588,0.2696,0.1822]])\n",
    "\n",
    "#modis central wavelengths, for plotting\n",
    "wavelengths = np.array([0.6450, 0.8585, 0.4690, 0.5550, 1.2400, 1.6400, 2.1300])\n",
    "\n",
    "#need to sort those as the MODIS bands don't go in increasing order\n",
    "idx = wavelengths.argsort(axis=0)\n",
    "\n",
    "#matlab solutions for: \n",
    "# fractional snow cover(fsca), \n",
    "# fractional shade(fshade),\n",
    "# grain size (um), \n",
    "# and dust (ppm) listed as 4 variable solution for pixel 1, then 3 variable solution for pixel 1, repeated for pixel 2\n",
    "\n",
    "msol=np.array([[0.8848, 0.0485, 430.2819, 18.2311], \n",
    "               [0.8929, 0.1071, 367.8753, 20.1885],\n",
    "               [0.4957, 0.1262, 487.8204, 55.4392], \n",
    "               [0.4942, 0.5058, 83.3307, 45.8701]])\n",
    "\n",
    "#matlab solutions for reflectance corresponding to above\n",
    "mrefl = np.array([\n",
    "    [0.8173, 0.6855, 0.8166, 0.8258, 0.1848, 0.0267, 0.0230],\n",
    "    [0.8143, 0.6879, 0.8194, 0.8240, 0.1865, 0.0084, 0.0040],\n",
    "    [0.4828, 0.4476, 0.4524, 0.4723, 0.1814, 0.1052, 0.0706],\n",
    "    [0.4681, 0.4355, 0.4653, 0.4683, 0.2307, 0.0336, 0.0174]])\n",
    "\n",
    "#matlab RMSE (2 solutions x 2 days because the solver tries a mixed pixel (fsca, fshade, fother) and a fully snow covered pixel (fsca,fshade only), so 2 solutions for 2 days\n",
    "mrmse = np.array([0.0186, 0.0326, 0.0136, 0.1055])\n",
    "\n",
    "#solar zenith angle for both days\n",
    "solar_z = np.array([24.0, 24.71])\n",
    "\n",
    "#ideal shade endmember\n",
    "shade = np.zeros(len(R[0]))"
   ]
  },
  {
   "cell_type": "code",
   "execution_count": 10,
   "id": "fd47db2e-d7aa-4c21-a65a-61cbcfafbc20",
   "metadata": {
    "pycharm": {
     "name": "#%%\n"
    }
   },
   "outputs": [
    {
     "data": {
      "text/plain": "24.0"
     },
     "execution_count": 10,
     "metadata": {},
     "output_type": "execute_result"
    }
   ],
   "source": [
    "solar_z[0]"
   ]
  },
  {
   "cell_type": "markdown",
   "id": "2c16a24f-4948-4836-8c37-d57b5ff4b9af",
   "metadata": {
    "pycharm": {
     "name": "#%% md\n"
    },
    "tags": []
   },
   "source": [
    "# Load Lookup table\n",
    "\n",
    "create 4-D interpolant with the following structure \n",
    "- reflectance = F(band # (1-7))\n",
    "- solar zenith angle (0-90 deg)\n",
    "- dust (0-1000 ppm)\n",
    "- grain radius (30-1200 um)\n",
    "\n",
    "I've checked to make sure results are the same as MATLAB and they match"
   ]
  },
  {
   "cell_type": "code",
   "execution_count": 7,
   "id": "3ca16ddb-29c8-47a0-9ef7-4118fc756c37",
   "metadata": {
    "pycharm": {
     "name": "#%%\n"
    }
   },
   "outputs": [],
   "source": [
    "#!wget \"ftp://ftp.snow.ucsb.edu/pub/org/snow/users/nbair/SpiPy/LUT_MODIS.mat\""
   ]
  },
  {
   "cell_type": "code",
   "execution_count": 8,
   "id": "398c9f2a",
   "metadata": {
    "collapsed": false,
    "jupyter": {
     "outputs_hidden": false
    },
    "pycharm": {
     "name": "#%%\n"
    }
   },
   "outputs": [],
   "source": [
    "#the look up table was created doing radiative transfer Mie scattering calcs\n",
    "lut_file = 'LUT_MODIS.mat'\n",
    "\n",
    "with h5py.File(lut_file, 'r') as lut:    \n",
    "    d={}\n",
    "    for k in lut.keys():\n",
    "        d[k]=np.squeeze(np.array(lut.get(k)))\n",
    "\n",
    "F = scipy.interpolate.RegularGridInterpolator(points=[d['X4'], d['X3'], d['X2'], d['X1']],\n",
    "                                              values=d['X'])"
   ]
  },
  {
   "cell_type": "code",
   "execution_count": 9,
   "id": "d38d0ea4-506d-4614-96a1-3349e1b50402",
   "metadata": {
    "pycharm": {
     "name": "#%%\n"
    }
   },
   "outputs": [
    {
     "ename": "NameError",
     "evalue": "name 'solarZ' is not defined",
     "output_type": "error",
     "traceback": [
      "\u001B[0;31m---------------------------------------------------------------------------\u001B[0m",
      "\u001B[0;31mNameError\u001B[0m                                 Traceback (most recent call last)",
      "\u001B[0;32m/tmp/ipykernel_59505/3053085302.py\u001B[0m in \u001B[0;36m<module>\u001B[0;34m\u001B[0m\n\u001B[1;32m      5\u001B[0m     \u001B[0;31m#run inversion\u001B[0m\u001B[0;34m\u001B[0m\u001B[0;34m\u001B[0m\u001B[0;34m\u001B[0m\u001B[0m\n\u001B[1;32m      6\u001B[0m     \u001B[0;32mfor\u001B[0m \u001B[0mmode\u001B[0m \u001B[0;32min\u001B[0m \u001B[0;34m[\u001B[0m\u001B[0;36m3\u001B[0m\u001B[0;34m,\u001B[0m \u001B[0;36m4\u001B[0m\u001B[0;34m]\u001B[0m\u001B[0;34m:\u001B[0m\u001B[0;34m\u001B[0m\u001B[0;34m\u001B[0m\u001B[0m\n\u001B[0;32m----> 7\u001B[0;31m         \u001B[0mres\u001B[0m\u001B[0;34m,\u001B[0m \u001B[0mmodel_refl\u001B[0m \u001B[0;34m=\u001B[0m \u001B[0mspires\u001B[0m\u001B[0;34m.\u001B[0m\u001B[0mspeedy_invert\u001B[0m\u001B[0;34m(\u001B[0m\u001B[0mF\u001B[0m\u001B[0;34m,\u001B[0m \u001B[0mR\u001B[0m\u001B[0;34m[\u001B[0m\u001B[0mi_pixel\u001B[0m\u001B[0;34m]\u001B[0m\u001B[0;34m,\u001B[0m \u001B[0mR0\u001B[0m\u001B[0;34m[\u001B[0m\u001B[0mi_pixel\u001B[0m\u001B[0;34m]\u001B[0m\u001B[0;34m,\u001B[0m \u001B[0msolarZ\u001B[0m\u001B[0;34m[\u001B[0m\u001B[0mi_pixel\u001B[0m\u001B[0;34m]\u001B[0m\u001B[0;34m,\u001B[0m \u001B[0mshade\u001B[0m\u001B[0;34m,\u001B[0m \u001B[0mmode\u001B[0m\u001B[0;34m)\u001B[0m\u001B[0;34m\u001B[0m\u001B[0;34m\u001B[0m\u001B[0m\n\u001B[0m\u001B[1;32m      8\u001B[0m         \u001B[0mrmse\u001B[0m \u001B[0;34m=\u001B[0m \u001B[0mres\u001B[0m\u001B[0;34m.\u001B[0m\u001B[0mfun\u001B[0m\u001B[0;34m\u001B[0m\u001B[0;34m\u001B[0m\u001B[0m\n\u001B[1;32m      9\u001B[0m         \u001B[0mfsca\u001B[0m \u001B[0;34m=\u001B[0m \u001B[0mres\u001B[0m\u001B[0;34m.\u001B[0m\u001B[0mx\u001B[0m\u001B[0;34m[\u001B[0m\u001B[0;36m0\u001B[0m\u001B[0;34m]\u001B[0m\u001B[0;34m\u001B[0m\u001B[0;34m\u001B[0m\u001B[0m\n",
      "\u001B[0;31mNameError\u001B[0m: name 'solarZ' is not defined"
     ]
    },
    {
     "data": {
      "text/plain": "<Figure size 720x360 with 1 Axes>",
      "image/png": "[encoded data removed]"
     },
     "metadata": {
      "needs_background": "light"
     },
     "output_type": "display_data"
    }
   ],
   "source": [
    "for i_pixel in range(0, 2):\n",
    "    plt.figure(figsize=(10,5))\n",
    "    plt.plot(wavelengths[idx], R[i_pixel][idx], 'k-', label='R')\n",
    "    \n",
    "    #run inversion\n",
    "    for mode in [3, 4]:\n",
    "        res, model_refl = spires.speedy_invert(F, R[i_pixel], R0[i_pixel], solarZ[i_pixel], shade, mode)\n",
    "        rmse = res.fun\n",
    "        fsca = res.x[0]\n",
    "        fshade = res.x[1]\n",
    "        rg = res.x[2]\n",
    "        dust = res.x[3]\n",
    "        \n",
    "        if mode==4:\n",
    "            mode_str = '4-variable'\n",
    "        if mode==3:\n",
    "            mode_str ='3-variable'\n",
    "        label = mode_str +' python model\\n (RMSE={rmse:0.2f}) fsca={fsca:0.2f} fshade={fshade:0.2f} rg={rg:0.2f} ug dust={dust:0.2f} ppm'\n",
    "        label = label.format(rmse=rmse, fsca=fsca, fshade=fshade, rg=rg, dust=dust)        \n",
    "        plt.plot(wavelengths[idx], model_refl[idx], label=label)\n",
    "    \n",
    "        #plot both 4 and 3 variable matlab solutions\n",
    "        if mode==4:\n",
    "            idt = 2*(i_pixel+1) - 2            \n",
    "        elif mode==3:\n",
    "            idt = 2*(i_pixel+1) - 1\n",
    "        rmse  = mrmse[idt]\n",
    "        fca = msol[idt][0]\n",
    "        fshade = msol[idt][1]\n",
    "        rg = msol[idt][2]\n",
    "        dust = msol[idt][3]\n",
    "        label = mode_str +' MATLAB model\\n (RMSE={rmse:0.2f}) fsca={fsca:0.2f} fshade={fshade:0.2f} rg={rg:0.2f} ug dust={dust:0.2f} ppm'\n",
    "        label = label.format(rmse=rmse, fsca=fsca, fshade=fshade, rg=rg, dust=dust)        \n",
    "        plt.plot(wavelengths[idx], mrefl[idt][idx], label=label)\n",
    "\n",
    "    plt.legend(loc=\"upper right\")\n",
    "    plt.title(f'pixel {i_pixel}')\n",
    "    plt.ylim(0, 1)\n",
    "    plt.xlabel('wavelength, um')\n",
    "    plt.ylabel('reflectance')\n",
    "    plt.grid('on')"
   ]
  },
  {
   "cell_type": "code",
   "execution_count": null,
   "id": "20c269e0-7951-4623-be36-50bcca086752",
   "metadata": {
    "pycharm": {
     "name": "#%%\n"
    }
   },
   "outputs": [],
   "source": []
  }
 ],
 "metadata": {
  "kernelspec": {
   "display_name": "Python 3 (ipykernel)",
   "language": "python",
   "name": "python3"
  },
  "language_info": {
   "codemirror_mode": {
    "name": "ipython",
    "version": 3
   },
   "file_extension": ".py",
   "mimetype": "text/x-python",
   "name": "python",
   "nbconvert_exporter": "python",
   "pygments_lexer": "ipython3",
   "version": "3.10.4"
  }
 },
 "nbformat": 4,
 "nbformat_minor": 5
}