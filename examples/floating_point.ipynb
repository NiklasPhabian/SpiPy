{
 "cells": [
  {
   "cell_type": "code",
   "execution_count": 1,
   "id": "39baff59-2572-46e4-9326-d2f131e08813",
   "metadata": {},
   "outputs": [],
   "source": [
    "import spires\n",
    "import numpy"
   ]
  },
  {
   "cell_type": "code",
   "execution_count": 7,
   "id": "c4708ced-cdd9-4a27-8cc5-5f41c0232efb",
   "metadata": {},
   "outputs": [],
   "source": [
    "lut = spires.load_lut('LUT_MODIS.mat')"
   ]
  },
  {
   "cell_type": "code",
   "execution_count": 44,
   "id": "3c1274a9-fc8a-460b-8366-e7d3fd62a6e4",
   "metadata": {},
   "outputs": [],
   "source": [
    "r0 = [0.027,  0.1909, 0.0049, 0.0193, 0.1268, 0.0489, 0.0206]\n",
    "r0_16 = numpy.array(r0, dtype='float16')\n",
    "r0_64 = numpy.array(r0, dtype='float64')\n",
    "\n",
    "r  = numpy.array([0.0873, 0.2198, 0.0821, 0.0834, 0.1715, 0.0652, 0.0311], dtype='float64')\n",
    "\n",
    "shade = shade = numpy.zeros(len(r))\n",
    "solar_z = 60"
   ]
  },
  {
   "cell_type": "code",
   "execution_count": 45,
   "id": "50b7946e-09ea-4697-b929-1e9e4f2edf40",
   "metadata": {},
   "outputs": [
    {
     "data": {
      "text/plain": [
       "0.0747049486427798"
      ]
     },
     "execution_count": 45,
     "metadata": {},
     "output_type": "execute_result"
    }
   ],
   "source": [
    "res, refl = spires.speedy_invert(f=lut, spectrum_target=r, spectrum_background=r0_64, \n",
    "                                 solar_z=solar_z, shade=shade, mode=4)\n",
    "res.x[0]"
   ]
  },
  {
   "cell_type": "code",
   "execution_count": 46,
   "id": "8e4d8101-8b5a-462e-af43-ba997a15abe4",
   "metadata": {},
   "outputs": [
    {
     "data": {
      "text/plain": [
       "0.07050483355382203"
      ]
     },
     "execution_count": 46,
     "metadata": {},
     "output_type": "execute_result"
    }
   ],
   "source": [
    "res, refl = spires.speedy_invert(f=lut, spectrum_target=r, spectrum_background=r0_16, \n",
    "                                 solar_z=solar_z, shade=shade, mode=4)\n",
    "res.x[0]"
   ]
  },
  {
   "cell_type": "code",
   "execution_count": null,
   "id": "d0f90141-69eb-4fd6-9d73-21860ffe8694",
   "metadata": {},
   "outputs": [],
   "source": []
  }
 ],
 "metadata": {
  "kernelspec": {
   "display_name": "Python 3 (ipykernel)",
   "language": "python",
   "name": "python3"
  },
  "language_info": {
   "codemirror_mode": {
    "name": "ipython",
    "version": 3
   },
   "file_extension": ".py",
   "mimetype": "text/x-python",
   "name": "python",
   "nbconvert_exporter": "python",
   "pygments_lexer": "ipython3",
   "version": "3.10.4"
  }
 },
 "nbformat": 4,
 "nbformat_minor": 5
}
